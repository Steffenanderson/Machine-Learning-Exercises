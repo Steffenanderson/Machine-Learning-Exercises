{
  "nbformat": 4,
  "nbformat_minor": 0,
  "metadata": {
    "colab": {
      "name": "Logistic Regression - Breast Cancer Wisconsin.ipynb",
      "provenance": [],
      "collapsed_sections": [],
      "mount_file_id": "1FKAg09r7Xrwf-ZFT3ozmTxbCb5ToKpKm",
      "authorship_tag": "ABX9TyMV/9+1QDTAsUmVlgDUEZ5s",
      "include_colab_link": true
    },
    "kernelspec": {
      "name": "python3",
      "display_name": "Python 3"
    },
    "language_info": {
      "name": "python"
    }
  },
  "cells": [
    {
      "cell_type": "markdown",
      "metadata": {
        "id": "view-in-github",
        "colab_type": "text"
      },
      "source": [
        "<a href=\"https://colab.research.google.com/github/Steffenanderson/Machine-Learning-Exercises/blob/main/Logistic_Regression_Breast_Cancer_Wisconsin.ipynb\" target=\"_parent\"><img src=\"https://colab.research.google.com/assets/colab-badge.svg\" alt=\"Open In Colab\"/></a>"
      ]
    },
    {
      "cell_type": "markdown",
      "metadata": {
        "id": "S8I91dvodfPb"
      },
      "source": [
        "# Logistic Regression - Breast Cancer Wisconsin"
      ]
    },
    {
      "cell_type": "markdown",
      "metadata": {
        "id": "kWPVK2FDdROQ"
      },
      "source": [
        "The data is from the Breast Cancer Wisconsin (Diagnostic) dataset. The goal of this prediction is to successfully classify cancer as malignat (1) or benign (0)."
      ]
    },
    {
      "cell_type": "code",
      "metadata": {
        "id": "8aGMnisBchOr"
      },
      "source": [
        "import matplotlib.pyplot as plt\n",
        "import pandas as pd\n",
        "import numpy as np\n",
        "from sklearn.model_selection import train_test_split\n",
        "from sklearn.preprocessing import StandardScaler\n",
        "from sklearn.linear_model import LinearRegression\n",
        "from sklearn.linear_model import LogisticRegression"
      ],
      "execution_count": null,
      "outputs": []
    },
    {
      "cell_type": "code",
      "metadata": {
        "colab": {
          "base_uri": "https://localhost:8080/",
          "height": 1000
        },
        "id": "Peg2_nirdEiS",
        "outputId": "0aae5d19-cd50-4191-d812-8c387b999de9"
      },
      "source": [
        "df = pd.read_csv('/content/drive/MyDrive/Machine Learning Models/Classification/Logistic Regression/1613245872__wisconsinBreastCancer (2).csv')\n",
        "df.head().T"
      ],
      "execution_count": null,
      "outputs": [
        {
          "output_type": "execute_result",
          "data": {
            "text/html": [
              "<div>\n",
              "<style scoped>\n",
              "    .dataframe tbody tr th:only-of-type {\n",
              "        vertical-align: middle;\n",
              "    }\n",
              "\n",
              "    .dataframe tbody tr th {\n",
              "        vertical-align: top;\n",
              "    }\n",
              "\n",
              "    .dataframe thead th {\n",
              "        text-align: right;\n",
              "    }\n",
              "</style>\n",
              "<table border=\"1\" class=\"dataframe\">\n",
              "  <thead>\n",
              "    <tr style=\"text-align: right;\">\n",
              "      <th></th>\n",
              "      <th>0</th>\n",
              "      <th>1</th>\n",
              "      <th>2</th>\n",
              "      <th>3</th>\n",
              "      <th>4</th>\n",
              "    </tr>\n",
              "  </thead>\n",
              "  <tbody>\n",
              "    <tr>\n",
              "      <th>id</th>\n",
              "      <td>842302.000000</td>\n",
              "      <td>842517.000000</td>\n",
              "      <td>8.430090e+07</td>\n",
              "      <td>8.434830e+07</td>\n",
              "      <td>8.435840e+07</td>\n",
              "    </tr>\n",
              "    <tr>\n",
              "      <th>diagnosis</th>\n",
              "      <td>1.000000</td>\n",
              "      <td>1.000000</td>\n",
              "      <td>1.000000e+00</td>\n",
              "      <td>1.000000e+00</td>\n",
              "      <td>1.000000e+00</td>\n",
              "    </tr>\n",
              "    <tr>\n",
              "      <th>radius_mean</th>\n",
              "      <td>17.990000</td>\n",
              "      <td>20.570000</td>\n",
              "      <td>1.969000e+01</td>\n",
              "      <td>1.142000e+01</td>\n",
              "      <td>2.029000e+01</td>\n",
              "    </tr>\n",
              "    <tr>\n",
              "      <th>texture_mean</th>\n",
              "      <td>10.380000</td>\n",
              "      <td>17.770000</td>\n",
              "      <td>2.125000e+01</td>\n",
              "      <td>2.038000e+01</td>\n",
              "      <td>1.434000e+01</td>\n",
              "    </tr>\n",
              "    <tr>\n",
              "      <th>perimeter_mean</th>\n",
              "      <td>122.800000</td>\n",
              "      <td>132.900000</td>\n",
              "      <td>1.300000e+02</td>\n",
              "      <td>7.758000e+01</td>\n",
              "      <td>1.351000e+02</td>\n",
              "    </tr>\n",
              "    <tr>\n",
              "      <th>area_mean</th>\n",
              "      <td>1001.000000</td>\n",
              "      <td>1326.000000</td>\n",
              "      <td>1.203000e+03</td>\n",
              "      <td>3.861000e+02</td>\n",
              "      <td>1.297000e+03</td>\n",
              "    </tr>\n",
              "    <tr>\n",
              "      <th>smoothness_mean</th>\n",
              "      <td>0.118400</td>\n",
              "      <td>0.084740</td>\n",
              "      <td>1.096000e-01</td>\n",
              "      <td>1.425000e-01</td>\n",
              "      <td>1.003000e-01</td>\n",
              "    </tr>\n",
              "    <tr>\n",
              "      <th>compactness_mean</th>\n",
              "      <td>0.277600</td>\n",
              "      <td>0.078640</td>\n",
              "      <td>1.599000e-01</td>\n",
              "      <td>2.839000e-01</td>\n",
              "      <td>1.328000e-01</td>\n",
              "    </tr>\n",
              "    <tr>\n",
              "      <th>concavity_mean</th>\n",
              "      <td>0.300100</td>\n",
              "      <td>0.086900</td>\n",
              "      <td>1.974000e-01</td>\n",
              "      <td>2.414000e-01</td>\n",
              "      <td>1.980000e-01</td>\n",
              "    </tr>\n",
              "    <tr>\n",
              "      <th>concave points_mean</th>\n",
              "      <td>0.147100</td>\n",
              "      <td>0.070170</td>\n",
              "      <td>1.279000e-01</td>\n",
              "      <td>1.052000e-01</td>\n",
              "      <td>1.043000e-01</td>\n",
              "    </tr>\n",
              "    <tr>\n",
              "      <th>symmetry_mean</th>\n",
              "      <td>0.241900</td>\n",
              "      <td>0.181200</td>\n",
              "      <td>2.069000e-01</td>\n",
              "      <td>2.597000e-01</td>\n",
              "      <td>1.809000e-01</td>\n",
              "    </tr>\n",
              "    <tr>\n",
              "      <th>fractal_dimension_mean</th>\n",
              "      <td>0.078710</td>\n",
              "      <td>0.056670</td>\n",
              "      <td>5.999000e-02</td>\n",
              "      <td>9.744000e-02</td>\n",
              "      <td>5.883000e-02</td>\n",
              "    </tr>\n",
              "    <tr>\n",
              "      <th>radius_se</th>\n",
              "      <td>1.095000</td>\n",
              "      <td>0.543500</td>\n",
              "      <td>7.456000e-01</td>\n",
              "      <td>4.956000e-01</td>\n",
              "      <td>7.572000e-01</td>\n",
              "    </tr>\n",
              "    <tr>\n",
              "      <th>texture_se</th>\n",
              "      <td>0.905300</td>\n",
              "      <td>0.733900</td>\n",
              "      <td>7.869000e-01</td>\n",
              "      <td>1.156000e+00</td>\n",
              "      <td>7.813000e-01</td>\n",
              "    </tr>\n",
              "    <tr>\n",
              "      <th>perimeter_se</th>\n",
              "      <td>8.589000</td>\n",
              "      <td>3.398000</td>\n",
              "      <td>4.585000e+00</td>\n",
              "      <td>3.445000e+00</td>\n",
              "      <td>5.438000e+00</td>\n",
              "    </tr>\n",
              "    <tr>\n",
              "      <th>area_se</th>\n",
              "      <td>153.400000</td>\n",
              "      <td>74.080000</td>\n",
              "      <td>9.403000e+01</td>\n",
              "      <td>2.723000e+01</td>\n",
              "      <td>9.444000e+01</td>\n",
              "    </tr>\n",
              "    <tr>\n",
              "      <th>smoothness_se</th>\n",
              "      <td>0.006399</td>\n",
              "      <td>0.005225</td>\n",
              "      <td>6.150000e-03</td>\n",
              "      <td>9.110000e-03</td>\n",
              "      <td>1.149000e-02</td>\n",
              "    </tr>\n",
              "    <tr>\n",
              "      <th>compactness_se</th>\n",
              "      <td>0.049040</td>\n",
              "      <td>0.013080</td>\n",
              "      <td>4.006000e-02</td>\n",
              "      <td>7.458000e-02</td>\n",
              "      <td>2.461000e-02</td>\n",
              "    </tr>\n",
              "    <tr>\n",
              "      <th>concavity_se</th>\n",
              "      <td>0.053730</td>\n",
              "      <td>0.018600</td>\n",
              "      <td>3.832000e-02</td>\n",
              "      <td>5.661000e-02</td>\n",
              "      <td>5.688000e-02</td>\n",
              "    </tr>\n",
              "    <tr>\n",
              "      <th>concave points_se</th>\n",
              "      <td>0.015870</td>\n",
              "      <td>0.013400</td>\n",
              "      <td>2.058000e-02</td>\n",
              "      <td>1.867000e-02</td>\n",
              "      <td>1.885000e-02</td>\n",
              "    </tr>\n",
              "    <tr>\n",
              "      <th>symmetry_se</th>\n",
              "      <td>0.030030</td>\n",
              "      <td>0.013890</td>\n",
              "      <td>2.250000e-02</td>\n",
              "      <td>5.963000e-02</td>\n",
              "      <td>1.756000e-02</td>\n",
              "    </tr>\n",
              "    <tr>\n",
              "      <th>fractal_dimension_se</th>\n",
              "      <td>0.006193</td>\n",
              "      <td>0.003532</td>\n",
              "      <td>4.571000e-03</td>\n",
              "      <td>9.208000e-03</td>\n",
              "      <td>5.115000e-03</td>\n",
              "    </tr>\n",
              "    <tr>\n",
              "      <th>radius_worst</th>\n",
              "      <td>25.380000</td>\n",
              "      <td>24.990000</td>\n",
              "      <td>2.357000e+01</td>\n",
              "      <td>1.491000e+01</td>\n",
              "      <td>2.254000e+01</td>\n",
              "    </tr>\n",
              "    <tr>\n",
              "      <th>texture_worst</th>\n",
              "      <td>17.330000</td>\n",
              "      <td>23.410000</td>\n",
              "      <td>2.553000e+01</td>\n",
              "      <td>2.650000e+01</td>\n",
              "      <td>1.667000e+01</td>\n",
              "    </tr>\n",
              "    <tr>\n",
              "      <th>perimeter_worst</th>\n",
              "      <td>184.600000</td>\n",
              "      <td>158.800000</td>\n",
              "      <td>1.525000e+02</td>\n",
              "      <td>9.887000e+01</td>\n",
              "      <td>1.522000e+02</td>\n",
              "    </tr>\n",
              "    <tr>\n",
              "      <th>area_worst</th>\n",
              "      <td>2019.000000</td>\n",
              "      <td>1956.000000</td>\n",
              "      <td>1.709000e+03</td>\n",
              "      <td>5.677000e+02</td>\n",
              "      <td>1.575000e+03</td>\n",
              "    </tr>\n",
              "    <tr>\n",
              "      <th>smoothness_worst</th>\n",
              "      <td>0.162200</td>\n",
              "      <td>0.123800</td>\n",
              "      <td>1.444000e-01</td>\n",
              "      <td>2.098000e-01</td>\n",
              "      <td>1.374000e-01</td>\n",
              "    </tr>\n",
              "    <tr>\n",
              "      <th>compactness_worst</th>\n",
              "      <td>0.665600</td>\n",
              "      <td>0.186600</td>\n",
              "      <td>4.245000e-01</td>\n",
              "      <td>8.663000e-01</td>\n",
              "      <td>2.050000e-01</td>\n",
              "    </tr>\n",
              "    <tr>\n",
              "      <th>concavity_worst</th>\n",
              "      <td>0.711900</td>\n",
              "      <td>0.241600</td>\n",
              "      <td>4.504000e-01</td>\n",
              "      <td>6.869000e-01</td>\n",
              "      <td>4.000000e-01</td>\n",
              "    </tr>\n",
              "    <tr>\n",
              "      <th>concave points_worst</th>\n",
              "      <td>0.265400</td>\n",
              "      <td>0.186000</td>\n",
              "      <td>2.430000e-01</td>\n",
              "      <td>2.575000e-01</td>\n",
              "      <td>1.625000e-01</td>\n",
              "    </tr>\n",
              "    <tr>\n",
              "      <th>symmetry_worst</th>\n",
              "      <td>0.460100</td>\n",
              "      <td>0.275000</td>\n",
              "      <td>3.613000e-01</td>\n",
              "      <td>6.638000e-01</td>\n",
              "      <td>2.364000e-01</td>\n",
              "    </tr>\n",
              "    <tr>\n",
              "      <th>fractal_dimension_worst</th>\n",
              "      <td>0.118900</td>\n",
              "      <td>0.089020</td>\n",
              "      <td>8.758000e-02</td>\n",
              "      <td>1.730000e-01</td>\n",
              "      <td>7.678000e-02</td>\n",
              "    </tr>\n",
              "    <tr>\n",
              "      <th>Unnamed: 32</th>\n",
              "      <td>NaN</td>\n",
              "      <td>NaN</td>\n",
              "      <td>NaN</td>\n",
              "      <td>NaN</td>\n",
              "      <td>NaN</td>\n",
              "    </tr>\n",
              "  </tbody>\n",
              "</table>\n",
              "</div>"
            ],
            "text/plain": [
              "                                     0  ...             4\n",
              "id                       842302.000000  ...  8.435840e+07\n",
              "diagnosis                     1.000000  ...  1.000000e+00\n",
              "radius_mean                  17.990000  ...  2.029000e+01\n",
              "texture_mean                 10.380000  ...  1.434000e+01\n",
              "perimeter_mean              122.800000  ...  1.351000e+02\n",
              "area_mean                  1001.000000  ...  1.297000e+03\n",
              "smoothness_mean               0.118400  ...  1.003000e-01\n",
              "compactness_mean              0.277600  ...  1.328000e-01\n",
              "concavity_mean                0.300100  ...  1.980000e-01\n",
              "concave points_mean           0.147100  ...  1.043000e-01\n",
              "symmetry_mean                 0.241900  ...  1.809000e-01\n",
              "fractal_dimension_mean        0.078710  ...  5.883000e-02\n",
              "radius_se                     1.095000  ...  7.572000e-01\n",
              "texture_se                    0.905300  ...  7.813000e-01\n",
              "perimeter_se                  8.589000  ...  5.438000e+00\n",
              "area_se                     153.400000  ...  9.444000e+01\n",
              "smoothness_se                 0.006399  ...  1.149000e-02\n",
              "compactness_se                0.049040  ...  2.461000e-02\n",
              "concavity_se                  0.053730  ...  5.688000e-02\n",
              "concave points_se             0.015870  ...  1.885000e-02\n",
              "symmetry_se                   0.030030  ...  1.756000e-02\n",
              "fractal_dimension_se          0.006193  ...  5.115000e-03\n",
              "radius_worst                 25.380000  ...  2.254000e+01\n",
              "texture_worst                17.330000  ...  1.667000e+01\n",
              "perimeter_worst             184.600000  ...  1.522000e+02\n",
              "area_worst                 2019.000000  ...  1.575000e+03\n",
              "smoothness_worst              0.162200  ...  1.374000e-01\n",
              "compactness_worst             0.665600  ...  2.050000e-01\n",
              "concavity_worst               0.711900  ...  4.000000e-01\n",
              "concave points_worst          0.265400  ...  1.625000e-01\n",
              "symmetry_worst                0.460100  ...  2.364000e-01\n",
              "fractal_dimension_worst       0.118900  ...  7.678000e-02\n",
              "Unnamed: 32                        NaN  ...           NaN\n",
              "\n",
              "[33 rows x 5 columns]"
            ]
          },
          "metadata": {
            "tags": []
          },
          "execution_count": 2
        }
      ]
    },
    {
      "cell_type": "markdown",
      "metadata": {
        "id": "nB9oON28e4Oe"
      },
      "source": [
        "**Relationship between concave points_worst and diagnosis (target)**"
      ]
    },
    {
      "cell_type": "code",
      "metadata": {
        "colab": {
          "base_uri": "https://localhost:8080/",
          "height": 264
        },
        "id": "dKJBXzImekxk",
        "outputId": "147e635e-74e9-4eb7-cfd7-0e8ef7c302de"
      },
      "source": [
        "plt.scatter(df['concave points_worst'], df['diagnosis'])\n",
        "plt.ylabel('maligant (1) or beign (0)')\n",
        "plt.ylabel('concave points_worst');"
      ],
      "execution_count": null,
      "outputs": [
        {
          "output_type": "display_data",
          "data": {
            "image/png": "[encoded data removed]",
            "text/plain": [
              "<Figure size 432x288 with 1 Axes>"
            ]
          },
          "metadata": {
            "tags": [],
            "needs_background": "light"
          }
        }
      ]
    },
    {
      "cell_type": "markdown",
      "metadata": {
        "id": "D4vAjFEDfmhz"
      },
      "source": [
        "# Linear regression attempt to classify data\n",
        "\n",
        "Linear regression was good when we wanted to predict a continuous value. This section is just showing trying using linear regression to classify and see where it falls short. malignant (1 in the graph above) or benign (0 in the graph below)."
      ]
    },
    {
      "cell_type": "code",
      "metadata": {
        "id": "X32Sq-3Xfwmp"
      },
      "source": [
        "X = df[['concave points_worst']]\n",
        "y = df['diagnosis']"
      ],
      "execution_count": null,
      "outputs": []
    },
    {
      "cell_type": "code",
      "metadata": {
        "colab": {
          "base_uri": "https://localhost:8080/",
          "height": 282
        },
        "id": "w-WVwhHMf68d",
        "outputId": "3d8487f2-c67a-4ee2-b074-026c453588e2"
      },
      "source": [
        "# linear regression instance\n",
        "lr = LinearRegression()\n",
        "# fit the model\n",
        "lr.fit(X,y)\n",
        "predictions = lr.predict(X)\n",
        "plt.scatter(df['concave points_worst'], df['diagnosis'])\n",
        "plt.plot(df['concave points_worst'], predictions, color='cadetblue')\n",
        "plt.ylabel('maligant (1) or beign (0)', fontsize = 12)\n",
        "plt.xlabel('concave points_worst', fontsize = 12);"
      ],
      "execution_count": null,
      "outputs": [
        {
          "output_type": "display_data",
          "data": {
            "image/png": "[encoded data removed]",
            "text/plain": [
              "<Figure size 432x288 with 1 Axes>"
            ]
          },
          "metadata": {
            "tags": [],
            "needs_background": "light"
          }
        }
      ]
    },
    {
      "cell_type": "markdown",
      "metadata": {
        "id": "0ZsWasWKgyNb"
      },
      "source": [
        "Problem: If the value for worse_concave_points is .0, what does it mean when we have -.25 for our class instead of a 1 or zero?  \n",
        "Solution: Constrain predictions between 0 and 1."
      ]
    },
    {
      "cell_type": "markdown",
      "metadata": {
        "id": "YMuEKZAIg9Hz"
      },
      "source": [
        "# Logistic Regression"
      ]
    },
    {
      "cell_type": "code",
      "metadata": {
        "colab": {
          "base_uri": "https://localhost:8080/"
        },
        "id": "Zo5V56jJhJbo",
        "outputId": "d503db24-5c0f-4058-a053-1c5afe43dbd7"
      },
      "source": [
        "# logistic regression instance\n",
        "logreg = LogisticRegression(C=1000)\n",
        "# train test split\n",
        "X_train, X_test, y_train, y_test = train_test_split(X, y, random_state=3)\n",
        "# scale \n",
        "scaler = StandardScaler()\n",
        "# fit the training set\n",
        "scaler.fit(X_train)\n",
        "# apply transform to both the training set and the test set\n",
        "X_train = scaler.transform(X_train)\n",
        "X_test = scaler.transform(X_test)\n",
        "logreg.fit(X_train, y_train)"
      ],
      "execution_count": null,
      "outputs": [
        {
          "output_type": "execute_result",
          "data": {
            "text/plain": [
              "LogisticRegression(C=1000, class_weight=None, dual=False, fit_intercept=True,\n",
              "                   intercept_scaling=1, l1_ratio=None, max_iter=100,\n",
              "                   multi_class='auto', n_jobs=None, penalty='l2',\n",
              "                   random_state=None, solver='lbfgs', tol=0.0001, verbose=0,\n",
              "                   warm_start=False)"
            ]
          },
          "metadata": {
            "tags": []
          },
          "execution_count": 6
        }
      ]
    },
    {
      "cell_type": "code",
      "metadata": {
        "id": "0Mi8vQlknVEK",
        "colab": {
          "base_uri": "https://localhost:8080/"
        },
        "outputId": "27fb1685-5c5d-468c-f5ce-b724580da0a5"
      },
      "source": [
        "print('y_test sum:', np.sum(y_test))\n",
        "print('X_test sum:', np.sum(X_test))\n",
        "print('y_train sum:', np.sum(y_train))\n",
        "print('X_train sum:', np.sum(X_train))"
      ],
      "execution_count": null,
      "outputs": [
        {
          "output_type": "stream",
          "text": [
            "y_test sum: 53\n",
            "X_test sum: -16.92945581674113\n",
            "y_train sum: 159\n",
            "X_train sum: -1.2256862191861728e-13\n"
          ],
          "name": "stdout"
        }
      ]
    },
    {
      "cell_type": "code",
      "metadata": {
        "colab": {
          "base_uri": "https://localhost:8080/",
          "height": 282
        },
        "id": "Cxzw7_qSKE8Q",
        "outputId": "66592ca7-f8e6-40f7-cde0-0cb93ace59fa"
      },
      "source": [
        "# This code is to plot/visualize the predictions\n",
        "example_df = pd.DataFrame(data = {'worst_concave_points': X_test.flatten(),\n",
        "                     'diagnosis': y_test})\n",
        "example_df['logistic_preds'] = pd.DataFrame(logreg.predict_proba(X_test)).loc[:, 1].values\n",
        "example_df = example_df.sort_values(['logistic_preds'])\n",
        "\n",
        "plt.scatter(example_df['worst_concave_points'], example_df['diagnosis'])\n",
        "plt.plot(example_df['worst_concave_points'], example_df['logistic_preds'].values, color='cadetblue')\n",
        "plt.ylabel('malignant (1) or benign (0)', fontsize = 12)\n",
        "plt.xlabel('concave points_worst', fontsize = 12);"
      ],
      "execution_count": null,
      "outputs": [
        {
          "output_type": "display_data",
          "data": {
            "image/png": "[encoded data removed]",
            "text/plain": [
              "<Figure size 432x288 with 1 Axes>"
            ]
          },
          "metadata": {
            "tags": [],
            "needs_background": "light"
          }
        }
      ]
    },
    {
      "cell_type": "markdown",
      "metadata": {
        "id": "h1zjKvQzKm3Z"
      },
      "source": [
        "The predicted probabilities are now more calibrated so now you can predict either a 0 or a 1 depending on the of worse_concave_points."
      ]
    }
  ]
}