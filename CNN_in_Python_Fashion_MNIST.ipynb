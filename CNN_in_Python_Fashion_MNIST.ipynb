{
  "nbformat": 4,
  "nbformat_minor": 0,
  "metadata": {
    "colab": {
      "name": "CNN in Python - Fashion MNIST.ipynb",
      "provenance": [],
      "collapsed_sections": [],
      "mount_file_id": "1yGryOY_Dk2OAfFo2AdXOxTd2MojFEE3e",
      "authorship_tag": "ABX9TyMhbbCaQ2QAhPDHJKE+QKpa",
      "include_colab_link": true
    },
    "kernelspec": {
      "name": "python3",
      "display_name": "Python 3"
    },
    "language_info": {
      "name": "python"
    }
  },
  "cells": [
    {
      "cell_type": "markdown",
      "metadata": {
        "id": "view-in-github",
        "colab_type": "text"
      },
      "source": [
        "<a href=\"https://colab.research.google.com/github/Steffenanderson/Machine-Learning-Exercises/blob/main/CNN_in_Python_Fashion_MNIST.ipynb\" target=\"_parent\"><img src=\"https://colab.research.google.com/assets/colab-badge.svg\" alt=\"Open In Colab\"/></a>"
      ]
    },
    {
      "cell_type": "markdown",
      "metadata": {
        "id": "ECxEEYe9093M"
      },
      "source": [
        "# CNN Exercise \n",
        "\n",
        "The Fashion MNIST dataset is another popular dataset for evaluating computer vision models. It consists of 60,000 training images, each a 28x28 grayscale image coming from one of 10 classes:\n",
        "\n",
        "*  0 T-shirt/top\n",
        "*  1 Trouser\n",
        "*  2 Pullover\n",
        "*  3 Dress\n",
        "*  4 Coat\n",
        "*  5 Sandal\n",
        "*  6 Shirt\n",
        "*  7 Sneaker\n",
        "*  8 Bag\n",
        "*  9 Ankle boot\n",
        "\n",
        "Your task is to use a CNN to classify the images as one of the 10 articles of clothing. "
      ]
    },
    {
      "cell_type": "code",
      "metadata": {
        "id": "H15K7mZvynae"
      },
      "source": [
        "import numpy as np\n",
        "import matplotlib.pyplot as plt\n",
        "import pandas as pd\n",
        "import tensorflow as tf\n",
        "import tensorflow_datasets as tfds\n",
        "tfds.disable_progress_bar()\n",
        "from sklearn.preprocessing import StandardScaler\n",
        "from tensorflow.keras.models import Sequential\n",
        "from tensorflow.keras.layers import Dense, Flatten, Conv2D, MaxPooling2D\n",
        "from tensorflow.keras.utils import to_categorical"
      ],
      "execution_count": 33,
      "outputs": []
    },
    {
      "cell_type": "code",
      "metadata": {
        "id": "AQuwc3qZzxFT"
      },
      "source": [
        "(X_train, y_train), (X_test, y_test) = tf.keras.datasets.fashion_mnist.load_data()"
      ],
      "execution_count": 23,
      "outputs": []
    },
    {
      "cell_type": "code",
      "metadata": {
        "colab": {
          "base_uri": "https://localhost:8080/"
        },
        "id": "sTQrSAYX0gUG",
        "outputId": "d4f34e8e-9a90-42e8-d8b4-1f8beb4e9428"
      },
      "source": [
        "X_train.shape"
      ],
      "execution_count": 24,
      "outputs": [
        {
          "output_type": "execute_result",
          "data": {
            "text/plain": [
              "(60000, 28, 28)"
            ]
          },
          "metadata": {
            "tags": []
          },
          "execution_count": 24
        }
      ]
    },
    {
      "cell_type": "markdown",
      "metadata": {
        "id": "oO0O2exd1zY-"
      },
      "source": [
        "Scale data"
      ]
    },
    {
      "cell_type": "code",
      "metadata": {
        "id": "65eAoipA0iK6"
      },
      "source": [
        "X_train = X_train / 255\n",
        "X_test = X_test / 255"
      ],
      "execution_count": 25,
      "outputs": []
    },
    {
      "cell_type": "markdown",
      "metadata": {
        "id": "0WcctPAd12UE"
      },
      "source": [
        "Reshape data"
      ]
    },
    {
      "cell_type": "code",
      "metadata": {
        "id": "JGx50QXb0jf0"
      },
      "source": [
        "ReX_train = X_train.reshape(X_train.shape[0], 28, 28, 1)\n",
        "X_test = X_test.reshape(X_test.shape[0], 28, 28, 1)"
      ],
      "execution_count": 26,
      "outputs": []
    },
    {
      "cell_type": "markdown",
      "metadata": {
        "id": "-w0syDNz16RW"
      },
      "source": [
        "Format target"
      ]
    },
    {
      "cell_type": "code",
      "metadata": {
        "id": "E4KEfNfY0k_F"
      },
      "source": [
        "y_train = to_categorical(y_train, num_classes = 10)\n",
        "y_test = to_categorical(y_test, num_classes = 10)"
      ],
      "execution_count": 27,
      "outputs": []
    },
    {
      "cell_type": "markdown",
      "metadata": {
        "id": "jYAFw-az1_-0"
      },
      "source": [
        "Define our network structure"
      ]
    },
    {
      "cell_type": "code",
      "metadata": {
        "id": "Q8slOfy_0mas"
      },
      "source": [
        "# Step 1: Define our network structure\n",
        "# Save the input shape\n",
        "input_shape = X_train.shape[1:4]\n",
        "input_shape"
      ],
      "execution_count": null,
      "outputs": []
    },
    {
      "cell_type": "code",
      "metadata": {
        "id": "-3SGKyWO0nuW"
      },
      "source": [
        "model = Sequential()"
      ],
      "execution_count": 29,
      "outputs": []
    },
    {
      "cell_type": "code",
      "metadata": {
        "id": "M5snxkFl0xWh"
      },
      "source": [
        "# Convolutional layer\n",
        "model.add(Conv2D(filters = 8, # How many filters you want to use\n",
        "                 kernel_size = 3, # size of each filter\n",
        "                 input_shape = input_shape)) # What is the shape of your input features (we defined this above)\n",
        "# Pooling layer\n",
        "model.add(MaxPooling2D(pool_size = 2)) # Size of pooling\n",
        "# Flattening layer\n",
        "model.add(Flatten())\n",
        "# Output layer\n",
        "model.add(Dense(10, # How many output possibilities we have\n",
        "                activation = 'softmax')) # What activation function are you using?"
      ],
      "execution_count": 30,
      "outputs": []
    },
    {
      "cell_type": "markdown",
      "metadata": {
        "id": "u2RBvjVA2Cv1"
      },
      "source": [
        "Compile model"
      ]
    },
    {
      "cell_type": "code",
      "metadata": {
        "id": "gdkNi6AY01b2"
      },
      "source": [
        "# Step 2: Compile\n",
        "model.compile(loss = 'categorical_crossentropy', optimizer = 'adam', metrics = ['acc'])"
      ],
      "execution_count": 31,
      "outputs": []
    },
    {
      "cell_type": "code",
      "metadata": {
        "colab": {
          "base_uri": "https://localhost:8080/"
        },
        "id": "sacdERTF02xo",
        "outputId": "eed16789-2056-4315-a0ae-ae643a92f3f8"
      },
      "source": [
        "# Step 3: Fit our model\n",
        "history = model.fit(X_train, y_train,\n",
        "                    validation_data = (X_test, y_test), \n",
        "                    epochs=20)"
      ],
      "execution_count": 32,
      "outputs": [
        {
          "output_type": "stream",
          "text": [
            "Epoch 1/20\n",
            "1875/1875 [==============================] - 21s 11ms/step - loss: 0.5197 - acc: 0.8192 - val_loss: 0.4334 - val_acc: 0.8483\n",
            "Epoch 2/20\n",
            "1875/1875 [==============================] - 19s 10ms/step - loss: 0.3870 - acc: 0.8648 - val_loss: 0.3986 - val_acc: 0.8615\n",
            "Epoch 3/20\n",
            "1875/1875 [==============================] - 19s 10ms/step - loss: 0.3559 - acc: 0.8762 - val_loss: 0.3662 - val_acc: 0.8730\n",
            "Epoch 4/20\n",
            "1875/1875 [==============================] - 20s 11ms/step - loss: 0.3378 - acc: 0.8821 - val_loss: 0.3557 - val_acc: 0.8756\n",
            "Epoch 5/20\n",
            "1875/1875 [==============================] - 19s 10ms/step - loss: 0.3245 - acc: 0.8860 - val_loss: 0.3616 - val_acc: 0.8706\n",
            "Epoch 6/20\n",
            "1875/1875 [==============================] - 19s 10ms/step - loss: 0.3131 - acc: 0.8897 - val_loss: 0.3413 - val_acc: 0.8784\n",
            "Epoch 7/20\n",
            "1875/1875 [==============================] - 19s 10ms/step - loss: 0.3032 - acc: 0.8931 - val_loss: 0.3432 - val_acc: 0.8793\n",
            "Epoch 8/20\n",
            "1875/1875 [==============================] - 20s 11ms/step - loss: 0.2965 - acc: 0.8959 - val_loss: 0.3404 - val_acc: 0.8781\n",
            "Epoch 9/20\n",
            "1875/1875 [==============================] - 19s 10ms/step - loss: 0.2892 - acc: 0.8980 - val_loss: 0.3401 - val_acc: 0.8765\n",
            "Epoch 10/20\n",
            "1875/1875 [==============================] - 19s 10ms/step - loss: 0.2826 - acc: 0.8989 - val_loss: 0.3339 - val_acc: 0.8796\n",
            "Epoch 11/20\n",
            "1875/1875 [==============================] - 19s 10ms/step - loss: 0.2773 - acc: 0.9029 - val_loss: 0.3289 - val_acc: 0.8818\n",
            "Epoch 12/20\n",
            "1875/1875 [==============================] - 19s 10ms/step - loss: 0.2727 - acc: 0.9042 - val_loss: 0.3317 - val_acc: 0.8844\n",
            "Epoch 13/20\n",
            "1875/1875 [==============================] - 19s 10ms/step - loss: 0.2683 - acc: 0.9051 - val_loss: 0.3299 - val_acc: 0.8836\n",
            "Epoch 14/20\n",
            "1875/1875 [==============================] - 19s 10ms/step - loss: 0.2628 - acc: 0.9074 - val_loss: 0.3324 - val_acc: 0.8809\n",
            "Epoch 15/20\n",
            "1875/1875 [==============================] - 19s 10ms/step - loss: 0.2598 - acc: 0.9081 - val_loss: 0.3280 - val_acc: 0.8855\n",
            "Epoch 16/20\n",
            "1875/1875 [==============================] - 19s 10ms/step - loss: 0.2558 - acc: 0.9097 - val_loss: 0.3282 - val_acc: 0.8875\n",
            "Epoch 17/20\n",
            "1875/1875 [==============================] - 19s 10ms/step - loss: 0.2525 - acc: 0.9110 - val_loss: 0.3260 - val_acc: 0.8865\n",
            "Epoch 18/20\n",
            "1875/1875 [==============================] - 19s 10ms/step - loss: 0.2498 - acc: 0.9117 - val_loss: 0.3360 - val_acc: 0.8824\n",
            "Epoch 19/20\n",
            "1875/1875 [==============================] - 19s 10ms/step - loss: 0.2465 - acc: 0.9123 - val_loss: 0.3301 - val_acc: 0.8880\n",
            "Epoch 20/20\n",
            "1875/1875 [==============================] - 19s 10ms/step - loss: 0.2446 - acc: 0.9129 - val_loss: 0.3250 - val_acc: 0.8877\n"
          ],
          "name": "stdout"
        }
      ]
    },
    {
      "cell_type": "code",
      "metadata": {
        "colab": {
          "base_uri": "https://localhost:8080/",
          "height": 262
        },
        "id": "QH1krGeP2hOl",
        "outputId": "0cf32d53-fea2-4639-fa3c-31603ff42d1c"
      },
      "source": [
        "# Visualize the loss\n",
        "plt.plot(history.history['loss'], label='Train loss')\n",
        "plt.plot(history.history['val_loss'], label='Test Loss')\n",
        "plt.legend();"
      ],
      "execution_count": 38,
      "outputs": [
        {
          "output_type": "display_data",
          "data": {
            "image/png": "[encoded data removed]",
            "text/plain": [
              "<Figure size 432x288 with 1 Axes>"
            ]
          },
          "metadata": {
            "tags": []
          }
        }
      ]
    },
    {
      "cell_type": "code",
      "metadata": {
        "colab": {
          "base_uri": "https://localhost:8080/",
          "height": 262
        },
        "id": "UqJ1DtsL2kQq",
        "outputId": "4fa45785-5199-4190-c058-790c0caa5886"
      },
      "source": [
        "# Visualize the accuracy\n",
        "plt.plot(history.history['acc'], label='Train Accuracy')\n",
        "plt.plot(history.history['val_acc'], label='Test Accuracy')\n",
        "plt.legend();"
      ],
      "execution_count": 37,
      "outputs": [
        {
          "output_type": "display_data",
          "data": {
            "image/png": "[encoded data removed]",
            "text/plain": [
              "<Figure size 432x288 with 1 Axes>"
            ]
          },
          "metadata": {
            "tags": []
          }
        }
      ]
    }
  ]
}