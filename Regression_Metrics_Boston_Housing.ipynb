{
  "nbformat": 4,
  "nbformat_minor": 0,
  "metadata": {
    "colab": {
      "name": "Regression Metrics - Boston Housing.ipynb",
      "provenance": [],
      "collapsed_sections": [],
      "mount_file_id": "1aMXoaPMsV8ZQ1ugUCyD5pTlJEpxvYWCd",
      "authorship_tag": "ABX9TyPa8i5mevlc20n3JzJQOcPy",
      "include_colab_link": true
    },
    "kernelspec": {
      "name": "python3",
      "display_name": "Python 3"
    },
    "language_info": {
      "name": "python"
    }
  },
  "cells": [
    {
      "cell_type": "markdown",
      "metadata": {
        "id": "view-in-github",
        "colab_type": "text"
      },
      "source": [
        "<a href=\"https://colab.research.google.com/github/Steffenanderson/Machine-Learning-Exercises/blob/main/Regression_Metrics_Boston_Housing.ipynb\" target=\"_parent\"><img src=\"https://colab.research.google.com/assets/colab-badge.svg\" alt=\"Open In Colab\"/></a>"
      ]
    },
    {
      "cell_type": "markdown",
      "metadata": {
        "id": "GCbVBnWsivYr"
      },
      "source": [
        "# Regression Metrics - Boston Housing \n",
        "\n",
        "**Task**\n",
        "\n",
        "Calculate the mean absolute error (MAE), mean squared error (MSE), and the root mean squared error (RMSE) for the dataset and model."
      ]
    },
    {
      "cell_type": "code",
      "metadata": {
        "id": "xWKeoqQ1h94N"
      },
      "source": [
        "import pandas as pd\n",
        "import numpy as np\n",
        "import matplotlib.pyplot as plt\n",
        "import seaborn as sns\n",
        "import statsmodels.api as sm\n",
        "import pandas.util.testing as tm\n",
        "from sklearn.linear_model import LinearRegression\n",
        "from sklearn.metrics import mean_squared_error, mean_absolute_error"
      ],
      "execution_count": null,
      "outputs": []
    },
    {
      "cell_type": "code",
      "metadata": {
        "colab": {
          "base_uri": "https://localhost:8080/",
          "height": 477
        },
        "id": "tZxr-NIxigg_",
        "outputId": "2bff74f0-2801-4a8a-c7dd-91d58134434d"
      },
      "source": [
        "raw_df = pd.read_csv('/content/drive/MyDrive/modifiedBostonHousing.csv')\n",
        "raw_df.head().T"
      ],
      "execution_count": 2,
      "outputs": [
        {
          "output_type": "execute_result",
          "data": {
            "text/html": [
              "<div>\n",
              "<style scoped>\n",
              "    .dataframe tbody tr th:only-of-type {\n",
              "        vertical-align: middle;\n",
              "    }\n",
              "\n",
              "    .dataframe tbody tr th {\n",
              "        vertical-align: top;\n",
              "    }\n",
              "\n",
              "    .dataframe thead th {\n",
              "        text-align: right;\n",
              "    }\n",
              "</style>\n",
              "<table border=\"1\" class=\"dataframe\">\n",
              "  <thead>\n",
              "    <tr style=\"text-align: right;\">\n",
              "      <th></th>\n",
              "      <th>0</th>\n",
              "      <th>1</th>\n",
              "      <th>2</th>\n",
              "      <th>3</th>\n",
              "      <th>4</th>\n",
              "    </tr>\n",
              "  </thead>\n",
              "  <tbody>\n",
              "    <tr>\n",
              "      <th>CRIM</th>\n",
              "      <td>0.00632</td>\n",
              "      <td>0.02731</td>\n",
              "      <td>0.02729</td>\n",
              "      <td>0.03237</td>\n",
              "      <td>0.06905</td>\n",
              "    </tr>\n",
              "    <tr>\n",
              "      <th>ZN</th>\n",
              "      <td>18.00000</td>\n",
              "      <td>0.00000</td>\n",
              "      <td>0.00000</td>\n",
              "      <td>0.00000</td>\n",
              "      <td>0.00000</td>\n",
              "    </tr>\n",
              "    <tr>\n",
              "      <th>INDUS</th>\n",
              "      <td>2.31000</td>\n",
              "      <td>7.07000</td>\n",
              "      <td>7.07000</td>\n",
              "      <td>2.18000</td>\n",
              "      <td>2.18000</td>\n",
              "    </tr>\n",
              "    <tr>\n",
              "      <th>CHAS</th>\n",
              "      <td>0.00000</td>\n",
              "      <td>0.00000</td>\n",
              "      <td>0.00000</td>\n",
              "      <td>0.00000</td>\n",
              "      <td>0.00000</td>\n",
              "    </tr>\n",
              "    <tr>\n",
              "      <th>NOX</th>\n",
              "      <td>0.53800</td>\n",
              "      <td>0.46900</td>\n",
              "      <td>0.46900</td>\n",
              "      <td>0.45800</td>\n",
              "      <td>0.45800</td>\n",
              "    </tr>\n",
              "    <tr>\n",
              "      <th>RM</th>\n",
              "      <td>6.57500</td>\n",
              "      <td>6.42100</td>\n",
              "      <td>7.18500</td>\n",
              "      <td>6.99800</td>\n",
              "      <td>7.14700</td>\n",
              "    </tr>\n",
              "    <tr>\n",
              "      <th>AGE</th>\n",
              "      <td>65.20000</td>\n",
              "      <td>78.90000</td>\n",
              "      <td>61.10000</td>\n",
              "      <td>45.80000</td>\n",
              "      <td>54.20000</td>\n",
              "    </tr>\n",
              "    <tr>\n",
              "      <th>DIS</th>\n",
              "      <td>4.09000</td>\n",
              "      <td>4.96710</td>\n",
              "      <td>4.96710</td>\n",
              "      <td>6.06220</td>\n",
              "      <td>6.06220</td>\n",
              "    </tr>\n",
              "    <tr>\n",
              "      <th>RAD</th>\n",
              "      <td>1.00000</td>\n",
              "      <td>2.00000</td>\n",
              "      <td>2.00000</td>\n",
              "      <td>3.00000</td>\n",
              "      <td>3.00000</td>\n",
              "    </tr>\n",
              "    <tr>\n",
              "      <th>TAX</th>\n",
              "      <td>296.00000</td>\n",
              "      <td>242.00000</td>\n",
              "      <td>242.00000</td>\n",
              "      <td>222.00000</td>\n",
              "      <td>222.00000</td>\n",
              "    </tr>\n",
              "    <tr>\n",
              "      <th>PTRATIO</th>\n",
              "      <td>15.30000</td>\n",
              "      <td>17.80000</td>\n",
              "      <td>17.80000</td>\n",
              "      <td>18.70000</td>\n",
              "      <td>18.70000</td>\n",
              "    </tr>\n",
              "    <tr>\n",
              "      <th>B</th>\n",
              "      <td>396.90000</td>\n",
              "      <td>396.90000</td>\n",
              "      <td>392.83000</td>\n",
              "      <td>394.63000</td>\n",
              "      <td>396.90000</td>\n",
              "    </tr>\n",
              "    <tr>\n",
              "      <th>LSTAT</th>\n",
              "      <td>4.98000</td>\n",
              "      <td>9.14000</td>\n",
              "      <td>4.03000</td>\n",
              "      <td>2.94000</td>\n",
              "      <td>5.33000</td>\n",
              "    </tr>\n",
              "    <tr>\n",
              "      <th>price</th>\n",
              "      <td>24.00000</td>\n",
              "      <td>21.60000</td>\n",
              "      <td>34.70000</td>\n",
              "      <td>33.40000</td>\n",
              "      <td>36.20000</td>\n",
              "    </tr>\n",
              "  </tbody>\n",
              "</table>\n",
              "</div>"
            ],
            "text/plain": [
              "                 0          1          2          3          4\n",
              "CRIM       0.00632    0.02731    0.02729    0.03237    0.06905\n",
              "ZN        18.00000    0.00000    0.00000    0.00000    0.00000\n",
              "INDUS      2.31000    7.07000    7.07000    2.18000    2.18000\n",
              "CHAS       0.00000    0.00000    0.00000    0.00000    0.00000\n",
              "NOX        0.53800    0.46900    0.46900    0.45800    0.45800\n",
              "RM         6.57500    6.42100    7.18500    6.99800    7.14700\n",
              "AGE       65.20000   78.90000   61.10000   45.80000   54.20000\n",
              "DIS        4.09000    4.96710    4.96710    6.06220    6.06220\n",
              "RAD        1.00000    2.00000    2.00000    3.00000    3.00000\n",
              "TAX      296.00000  242.00000  242.00000  222.00000  222.00000\n",
              "PTRATIO   15.30000   17.80000   17.80000   18.70000   18.70000\n",
              "B        396.90000  396.90000  392.83000  394.63000  396.90000\n",
              "LSTAT      4.98000    9.14000    4.03000    2.94000    5.33000\n",
              "price     24.00000   21.60000   34.70000   33.40000   36.20000"
            ]
          },
          "metadata": {
            "tags": []
          },
          "execution_count": 2
        }
      ]
    },
    {
      "cell_type": "code",
      "metadata": {
        "colab": {
          "base_uri": "https://localhost:8080/"
        },
        "id": "U_LytgmAjAAL",
        "outputId": "0aeadb1b-4a8d-4487-ae34-1cc75d3259c6"
      },
      "source": [
        "raw_df.shape"
      ],
      "execution_count": 3,
      "outputs": [
        {
          "output_type": "execute_result",
          "data": {
            "text/plain": [
              "(506, 14)"
            ]
          },
          "metadata": {
            "tags": []
          },
          "execution_count": 3
        }
      ]
    },
    {
      "cell_type": "code",
      "metadata": {
        "colab": {
          "base_uri": "https://localhost:8080/",
          "height": 202
        },
        "id": "bwU2hbKnjDKj",
        "outputId": "f46f52e0-5747-4cc0-9794-8cbafad45902"
      },
      "source": [
        "# getting the columns requested in the task\n",
        "raw_df = raw_df.loc[:, ['RM',\n",
        "                    'LSTAT',\n",
        "                    'PTRATIO',\n",
        "                    'price']]\n",
        "raw_df.head()"
      ],
      "execution_count": 4,
      "outputs": [
        {
          "output_type": "execute_result",
          "data": {
            "text/html": [
              "<div>\n",
              "<style scoped>\n",
              "    .dataframe tbody tr th:only-of-type {\n",
              "        vertical-align: middle;\n",
              "    }\n",
              "\n",
              "    .dataframe tbody tr th {\n",
              "        vertical-align: top;\n",
              "    }\n",
              "\n",
              "    .dataframe thead th {\n",
              "        text-align: right;\n",
              "    }\n",
              "</style>\n",
              "<table border=\"1\" class=\"dataframe\">\n",
              "  <thead>\n",
              "    <tr style=\"text-align: right;\">\n",
              "      <th></th>\n",
              "      <th>RM</th>\n",
              "      <th>LSTAT</th>\n",
              "      <th>PTRATIO</th>\n",
              "      <th>price</th>\n",
              "    </tr>\n",
              "  </thead>\n",
              "  <tbody>\n",
              "    <tr>\n",
              "      <th>0</th>\n",
              "      <td>6.575</td>\n",
              "      <td>4.98</td>\n",
              "      <td>15.3</td>\n",
              "      <td>24.0</td>\n",
              "    </tr>\n",
              "    <tr>\n",
              "      <th>1</th>\n",
              "      <td>6.421</td>\n",
              "      <td>9.14</td>\n",
              "      <td>17.8</td>\n",
              "      <td>21.6</td>\n",
              "    </tr>\n",
              "    <tr>\n",
              "      <th>2</th>\n",
              "      <td>7.185</td>\n",
              "      <td>4.03</td>\n",
              "      <td>17.8</td>\n",
              "      <td>34.7</td>\n",
              "    </tr>\n",
              "    <tr>\n",
              "      <th>3</th>\n",
              "      <td>6.998</td>\n",
              "      <td>2.94</td>\n",
              "      <td>18.7</td>\n",
              "      <td>33.4</td>\n",
              "    </tr>\n",
              "    <tr>\n",
              "      <th>4</th>\n",
              "      <td>7.147</td>\n",
              "      <td>5.33</td>\n",
              "      <td>18.7</td>\n",
              "      <td>36.2</td>\n",
              "    </tr>\n",
              "  </tbody>\n",
              "</table>\n",
              "</div>"
            ],
            "text/plain": [
              "      RM  LSTAT  PTRATIO  price\n",
              "0  6.575   4.98     15.3   24.0\n",
              "1  6.421   9.14     17.8   21.6\n",
              "2  7.185   4.03     17.8   34.7\n",
              "3  6.998   2.94     18.7   33.4\n",
              "4  7.147   5.33     18.7   36.2"
            ]
          },
          "metadata": {
            "tags": []
          },
          "execution_count": 4
        }
      ]
    },
    {
      "cell_type": "code",
      "metadata": {
        "colab": {
          "base_uri": "https://localhost:8080/"
        },
        "id": "ERJwEdXokdBA",
        "outputId": "ac355466-505a-401e-e78e-e161eb82a7f8"
      },
      "source": [
        "# Remove entire rows from a df if they contain any NaNs in them or 'all'\n",
        "# this may not be the best stratefy for our dataset\n",
        "raw_df = raw_df.dropna(how = 'any')\n",
        "raw_df.shape"
      ],
      "execution_count": 5,
      "outputs": [
        {
          "output_type": "execute_result",
          "data": {
            "text/plain": [
              "(505, 4)"
            ]
          },
          "metadata": {
            "tags": []
          },
          "execution_count": 5
        }
      ]
    },
    {
      "cell_type": "code",
      "metadata": {
        "colab": {
          "base_uri": "https://localhost:8080/",
          "height": 414
        },
        "id": "ZUSoSg27qPha",
        "outputId": "a6737201-658c-476d-f482-bc4f23896025"
      },
      "source": [
        "price_filter = raw_df.loc[:, 'price'] < 0\n",
        "raw_df = raw_df.loc[~price_filter, :]\n",
        "clean_df = raw_df\n",
        "clean_df"
      ],
      "execution_count": 6,
      "outputs": [
        {
          "output_type": "execute_result",
          "data": {
            "text/html": [
              "<div>\n",
              "<style scoped>\n",
              "    .dataframe tbody tr th:only-of-type {\n",
              "        vertical-align: middle;\n",
              "    }\n",
              "\n",
              "    .dataframe tbody tr th {\n",
              "        vertical-align: top;\n",
              "    }\n",
              "\n",
              "    .dataframe thead th {\n",
              "        text-align: right;\n",
              "    }\n",
              "</style>\n",
              "<table border=\"1\" class=\"dataframe\">\n",
              "  <thead>\n",
              "    <tr style=\"text-align: right;\">\n",
              "      <th></th>\n",
              "      <th>RM</th>\n",
              "      <th>LSTAT</th>\n",
              "      <th>PTRATIO</th>\n",
              "      <th>price</th>\n",
              "    </tr>\n",
              "  </thead>\n",
              "  <tbody>\n",
              "    <tr>\n",
              "      <th>0</th>\n",
              "      <td>6.575</td>\n",
              "      <td>4.98</td>\n",
              "      <td>15.3</td>\n",
              "      <td>24.0</td>\n",
              "    </tr>\n",
              "    <tr>\n",
              "      <th>1</th>\n",
              "      <td>6.421</td>\n",
              "      <td>9.14</td>\n",
              "      <td>17.8</td>\n",
              "      <td>21.6</td>\n",
              "    </tr>\n",
              "    <tr>\n",
              "      <th>2</th>\n",
              "      <td>7.185</td>\n",
              "      <td>4.03</td>\n",
              "      <td>17.8</td>\n",
              "      <td>34.7</td>\n",
              "    </tr>\n",
              "    <tr>\n",
              "      <th>3</th>\n",
              "      <td>6.998</td>\n",
              "      <td>2.94</td>\n",
              "      <td>18.7</td>\n",
              "      <td>33.4</td>\n",
              "    </tr>\n",
              "    <tr>\n",
              "      <th>4</th>\n",
              "      <td>7.147</td>\n",
              "      <td>5.33</td>\n",
              "      <td>18.7</td>\n",
              "      <td>36.2</td>\n",
              "    </tr>\n",
              "    <tr>\n",
              "      <th>...</th>\n",
              "      <td>...</td>\n",
              "      <td>...</td>\n",
              "      <td>...</td>\n",
              "      <td>...</td>\n",
              "    </tr>\n",
              "    <tr>\n",
              "      <th>501</th>\n",
              "      <td>6.593</td>\n",
              "      <td>9.67</td>\n",
              "      <td>21.0</td>\n",
              "      <td>22.4</td>\n",
              "    </tr>\n",
              "    <tr>\n",
              "      <th>502</th>\n",
              "      <td>6.120</td>\n",
              "      <td>9.08</td>\n",
              "      <td>21.0</td>\n",
              "      <td>20.6</td>\n",
              "    </tr>\n",
              "    <tr>\n",
              "      <th>503</th>\n",
              "      <td>6.976</td>\n",
              "      <td>5.64</td>\n",
              "      <td>21.0</td>\n",
              "      <td>23.9</td>\n",
              "    </tr>\n",
              "    <tr>\n",
              "      <th>504</th>\n",
              "      <td>6.794</td>\n",
              "      <td>6.48</td>\n",
              "      <td>21.0</td>\n",
              "      <td>22.0</td>\n",
              "    </tr>\n",
              "    <tr>\n",
              "      <th>505</th>\n",
              "      <td>6.030</td>\n",
              "      <td>7.88</td>\n",
              "      <td>21.0</td>\n",
              "      <td>11.9</td>\n",
              "    </tr>\n",
              "  </tbody>\n",
              "</table>\n",
              "<p>404 rows × 4 columns</p>\n",
              "</div>"
            ],
            "text/plain": [
              "        RM  LSTAT  PTRATIO  price\n",
              "0    6.575   4.98     15.3   24.0\n",
              "1    6.421   9.14     17.8   21.6\n",
              "2    7.185   4.03     17.8   34.7\n",
              "3    6.998   2.94     18.7   33.4\n",
              "4    7.147   5.33     18.7   36.2\n",
              "..     ...    ...      ...    ...\n",
              "501  6.593   9.67     21.0   22.4\n",
              "502  6.120   9.08     21.0   20.6\n",
              "503  6.976   5.64     21.0   23.9\n",
              "504  6.794   6.48     21.0   22.0\n",
              "505  6.030   7.88     21.0   11.9\n",
              "\n",
              "[404 rows x 4 columns]"
            ]
          },
          "metadata": {
            "tags": []
          },
          "execution_count": 6
        }
      ]
    },
    {
      "cell_type": "markdown",
      "metadata": {
        "id": "MZDEU79L0B0d"
      },
      "source": [
        "# Measuring Model Performance"
      ]
    },
    {
      "cell_type": "markdown",
      "metadata": {
        "id": "ELaatEV3u62T"
      },
      "source": [
        "Unlike classification models where a common metric is accuracy, regression models use other metrics like R^2, the coefficient of determination to quantify your model's performance. The best possible score is 1.0. A constant model that always predicts the expected value of y, disregarding the input features, would get a R^2 score of 0.0."
      ]
    },
    {
      "cell_type": "code",
      "metadata": {
        "colab": {
          "base_uri": "https://localhost:8080/"
        },
        "id": "iz4sNWv6tuib",
        "outputId": "5911e8df-d9e5-410f-905f-474401889164"
      },
      "source": [
        "# feature matrix\n",
        "X = clean_df.loc[:, ['RM','LSTAT','PTRATIO']].values\n",
        "# target vector\n",
        "y = clean_df.loc[:, 'price'].values\n",
        "# constant biased term\n",
        "X = sm.add_constant(X)\n",
        "\n",
        "# Used ML model OLS (ordinary least squared) to see R-Squared \n",
        "# >>> not part of assignment just wanted to confirmed 0.78 from \n",
        "model = sm.OLS(y, X).fit()\n",
        "predictions = model.predict(X)\n",
        "\n",
        "print_model = model.summary()\n",
        "print(print_model)\n",
        "\n",
        "# Adj. R-sqaured is close to R-Square == de minimis random features"
      ],
      "execution_count": 7,
      "outputs": [
        {
          "output_type": "stream",
          "text": [
            "                            OLS Regression Results                            \n",
            "==============================================================================\n",
            "Dep. Variable:                      y   R-squared:                       0.785\n",
            "Model:                            OLS   Adj. R-squared:                  0.783\n",
            "Method:                 Least Squares   F-statistic:                     486.4\n",
            "Date:                Fri, 18 Jun 2021   Prob (F-statistic):          5.05e-133\n",
            "Time:                        19:13:08   Log-Likelihood:                -1156.2\n",
            "No. Observations:                 404   AIC:                             2320.\n",
            "Df Residuals:                     400   BIC:                             2336.\n",
            "Df Model:                           3                                         \n",
            "Covariance Type:            nonrobust                                         \n",
            "==============================================================================\n",
            "                 coef    std err          t      P>|t|      [0.025      0.975]\n",
            "------------------------------------------------------------------------------\n",
            "const          5.0689      3.639      1.393      0.164      -2.085      12.223\n",
            "x1             6.6145      0.414     15.976      0.000       5.801       7.428\n",
            "x2            -0.4457      0.042    -10.715      0.000      -0.527      -0.364\n",
            "x3            -1.0067      0.102     -9.872      0.000      -1.207      -0.806\n",
            "==============================================================================\n",
            "Omnibus:                       28.402   Durbin-Watson:                   1.108\n",
            "Prob(Omnibus):                  0.000   Jarque-Bera (JB):               39.566\n",
            "Skew:                           0.533   Prob(JB):                     2.56e-09\n",
            "Kurtosis:                       4.103   Cond. No.                         407.\n",
            "==============================================================================\n",
            "\n",
            "Warnings:\n",
            "[1] Standard Errors assume that the covariance matrix of the errors is correctly specified.\n"
          ],
          "name": "stdout"
        }
      ]
    },
    {
      "cell_type": "markdown",
      "metadata": {
        "id": "wOqPVhkH0how"
      },
      "source": [
        "**Mean Absolute Error (MAE):**\n",
        "\n",
        "MAE measures the average magnitude of the errors in a set of predictions, without considering their direction. It’s the average over the test sample of the absolute differences between prediction and actual observation where all individual differences have equal weight.\n",
        "\n",
        "![image.png](data:image/png;base64,iVBORw0KGgoAAAANSUhEUgAAATsAAABaCAYAAADHA/GMAAAZ2klEQVR4Ae3dL9Q0tRUG8E8gKhAVCERFBQKBQCAQCAQCgcBUVCAqKhAIBAKBQCAqEIgKBAKBQSAqKioqKhAVFQgEAoFAIBAIBGZ7fnPe5zthmL+7M+/uu3tzzmxmkpvkJrl5cnOTmX30yy+/HDh+XdUG55IBMvjDDz8c/v3vfx++++67Tibz89///vfwr3/96/DVV18lqGS1xutiGSA05PqRn3LVAudugR9//PHw1ltvHd55553DM888c/jyyy8P33///eHtt98+vPfee4cPP/zw8Pzzz3fP5+a1yn94LfArsDvXjF7lljZp6AC0Tz/9tBtFTz/99OGPf/zj4Y033jj85z//eTyyPvnkk8OjR48eh5XslOwskQEChO6xZrckUdGUcG0tAwTR8vW111470O7c//73vz888cQTB8vXCCo/YPfZZ589Dt+an8rv+mQ8MlRgV7aPxbaPvYAAwAXY/vGPf3Tam+VshFS53JtvvtnFhXYvfirf6wK8yFGBXYHd2cEuYEYogVx/qSr8559/7pa2f/jDH7r7CHAB03UB0x79GVkpsLtRsAMeLcjsIWRr8ySUL774YreMtaSNkPLt0gJBGxaceNfaMor+9sAxclRgd4Ng16HFndH2gw8+6HY+IxDnAgPl231lq3vllVc6FsOLh7/+9a+/WsLSAC15udCVf3tAtqTPIyMFdjcEdh0y3IEKIz9QoS0x/EcglgjPHjTK/+KLLzp+AHD44dNCn3rqqcNzzz3XhX/99dePNzT24KXyvC7QjCwV2N0A2OlsWtOf/vSnw0svvXR44YUXOh/QuS5hdxOPlqj4ccYuAgp4uD//+c8H9jranPscSSlgui5g2qM/I0sFdjcAdgSIfQuo0Z6+/fbb7hl4XBLYATla5pDA//TTT4e///3vB1rf//73vw4Ah+gqrMCvLwMFdjcCcjq+vxmh8x33cHj3UsAOn3F9YcV/3/Vp6rlAbkwGyI640uxuCPQiDDrfsvbSwC78lV/AtaUMFNjdIMhFgArsCkwiC7fgF9gV2JVmd8MycAsglzoW2N2woJdmV5pdgOAW/AK7ArvS7G5YBm4B5FLHArsbFvTS7EqzCxDcgl9gV2C3i2ZHsC7R3cKgrjoOT2LkUdvU0ZMbBD2dv8fREwd/fT7dWw7t5SDzXldbzth9fRJqGARuBRwL7G4Q5CLce4CdPP13hEPKl3Z5r9Yh6gh92qH82wDB9HtpdjcIejp/D80OePiUeh/svMDvVTDvs/pU07EXrfGf//xnpzV69e2jjz7qPueuTO/75pB0v3zPaCP0BXK3AXLp5/R7gV2B3WYfAiBU3sF99tlnfwN43mvd2wFwYOiDAv60pwU9f9aT184yCMq/DdArsLtBkMvg1vl7aXbypsX97ne/+xXY+E7d3l8qacEU6H788ce/Al42PS7tUH6BXQnDlQOhAb/nhwDkb9nYalbuaVuxneXjBHsBTodqd5pm/rui/1HQJWUXOF4mIEZL1z9zspQ+vPhlbBhdIphFMy2Y2jLOzmlsXJ9//nmCO3+LdpSR7+f1AU8Yt0UZS/LoCjscuk9D4WXNzqxB5EOhc4NpCR9FMy2bx7SP1ck333wzK0uRt8dgF6Ho+8cwIc2YW5OfAenba9yadGNlrw1fU+ZDoP3qq68ebxTkj20AgA96snVZfrq2+G8HbU2L69vOlHffmwXp97/85S/dhz89z/UXGm3h/2sNqCVp5vK8tfhW+9q67vrj/fffP7z88suzfZO+68AOQrKnuMx8Po7ocpQghGuYBVLJg09o5O1+aT7K/dvf/tZ9jnsN4GU2VpZZmaDm8mzAD119Wm2ylNeHQKdd7Fr6Q5v2a8XtPcGxq7lG+5mquz7U7+x1rYbHnkcmjpGtqfKm4pQFxNWfbMyVLd7u75NPPtnJyxz9VNm3GqfNjN2t5KltR3nbiLLxNNc3iX/kxoFPQt7fRXNkAHCFuC1s7B6tf3dvhdsXceVvZl2Tl4rIJzt5Y2UmXN4E+vXXX+8awTLNwCKwLs/46F/qiccMSml8+nsNr+Hhkn2A58Jj34XvliZhp/jKMWm18uCerOkr7pT816RVloFnYptLh9YRGX/Yjf4++Zzj7SHEa69Ws996cpO/1YmxPNc3iX+8jI2QE0ygABwI5Zr/J5ApjYhdxkFO6WkLKq2DMtDmOks+hDIDZI1hWRnKc5nBLUOSj904AwyP7UWDJdBAH7/oAe0cnxW/zA6jP1977bXH/ZD+WDv5bdHeeOHm8kJTYLesf/ttqe2MLxMaxYPyA09o+Uvavp/f0LN8jgY7GXJsN8AqxmVCyg0V2A9D5z8ErKWjldkJi+vTjz2jf/fddx8PDprWmtk15fE1tsEljyzL2/ihe1qdGR1gcmN8Vvj8YDD5cNo+/3kRsOM7HnKJbYynArv5/u2PAe1m6QroMpkJY6elAGlTrp9u7bM8TgY72g0m+QGJNUAD3GhUMUz7v881lUNrgLAlvfrqq48B78MPP1yVj8bjWrBbYmiWRmfRbtn2uLUdUfS/HSTakQ2sBTr3ZvwlNrT7blP8Ftj9th/n+sHYpSBRVuKk4WIuW2ODHytPfpuAHa0O0wY8gaSGcmMFpzLUVEZDz1k+HgN2lpsMycApy2nPczz0+UO/BOz6+XoGtLTcfly/jHpePiC0Zd+eS76sAtbahvdud7wW2C3v2/QH3BhTKrQpoGNKCv2xvrw2ATsAwb311lsd2NHS5oQRPUEOQJwCdnYNgSYX7c7mwVoNQPolYGeJpX5peOmUf99HJFL+tfraVd3y59ytlrd2Uty7jfBaYLce7PRL+nmoj6bihujHwuSzKdjZQYlATr1qo2AGSctfyA44jgE7+UB94JrdGzbA8MAWyI01QD8c7RzY4RdNOxtJZ2Nm6S5wv9x6Hh8k2jZmgvRr/E8//VT04v7ds53xsQTswm/H+ATvc/F71uU+8k794g+Vaay1zvMQ3ZIw+WwKdjK0fCSMlrbcECPCCaqdXA5gHQt2QMZ2snI4Wld2drNDKnyIj34YuimwEw+YldeCXfJptb2ElT8OZEvbRrvHJhyg41/SMQ88ToGdePWl/dNKY6tOeNsWwkzeVj1t+LXcp62sBK3KpiYtm37e2KEcnVJ/ZW4OdrQbgsh2NmZYVLDOjkH/FLADTq2NUN52RzMoovEtaShpW7DTwH0HXA2y7NQuyXeIJrNUP/8tnofKe+hh2oWwpl/jm1yjAZyzjvibAzsgx9xhomRuIUeRsfAuH2HimGKubYdf/YCX+hubxpO+tCLj0g58TpuNxbe0c/fy2hzsdFQ0q2huLSMKdSauPWJyDNjJR1mWsK1tTrjGzGBQQa7lYeweXcCOoFlmE04zEH7ZjoQD8lPBDg/410aW21tcH3zwwaIDsGP1v+Tw9KFd9/Rt/Nhrz8k//sbAThwlIAfPPce+bbBz4d19tFiH1y8ByMPbqb66GTf6MCujnI8Ffv12sFLK8aPY9o/lQd6bgh1GOCBBEIc6S7yB3b5MfizYOXPV33WVv/yyM7xksyQNKG0f7DRQAE+HbAV2yqLZWhI7Y7TFpb1PFYq0xSX62syxJlpPgC5+5OlcfONtCOyEG7QOn+dIFgDTV3jv9xd68iYOIHJDdQoIdgQjNEPpzhmGV0dMshLzbIJW10wE4U9cgJDyZExzie/7XeTdj7YZit8F7HR6hNBZqTDJp5Zbp4d5YceCHfDJDmhXSPOTmRMfLQ/9RmifJQ/YOVScJUSTbad2Dy1jW+Ebauy2nPZe3mvo27TtffKQXxu+5r6t56n3a8pdQ4uvLH0iY3wDItrCmvy2osXXGNjR1GLDRufIFZ5pLZGxlo/YvftaX0sjH5OlsdQHzJZu6l4eW7mpchIH9K2OYr4SnpcJ+nXFV0xicy8qoDXGtUWbd8rlc7uAXVsJDHApUKXaXVJxa8FOmuzQyc8MYP2fy3NmDEKVJXNb+aF7+bZg1x884nXY2AYFwbU0Hcp7Kky+U/FL4k7JQ1oDkOBtcU0ZnJfUZY4Gv/q0BTv3QCKT6FweW8fjaQjslENWI0voMhH3l9/i0JporSCSZohXtMaReh9zgJ4cAxNa1qkXe1sm2yFeE6ZMJifPnPGKf6uwfr+Jz1tZxjKXfPq+uIzbMcUGzeZgl4roABVptSAFEtK+je0YsNNRbGfW/4S8fwknNHgwg/Ybs99g4TuNJu2QsOlUndCPUzcq+t4DfYjvU8PwbkY0CA3AUy55GPTcqXyNpZd3Jh39m2tqU2wsr63C8TQEduSldeQwJpb+u5/oYq/LCYMp/ti/DO4lQNPmoxx80Jgsp0+5mF8sQfUH15YzdB8a/thyXZz8ckKj305D+TIRoBuKE8btBnZmKMJHELPUBHJ9LQsTx4AdMJOvikjfXhqKAGQGxQMh4sYaIw2yBOxob30Bk7e0Zqu5cpTVHwRdoo1+puo4FLcHL/32GSr3lDBNRcBjwKYJTZ3tPKWsJWnxMwR2bVo0lpzkEUiI40LjfgwAQtP6XeImfRu35L4tewn9GM3afNCTD/Z0bdHXxsTHXjek9Q3xIQ03FCeM2wXsknmOgJilODuPfc1H+BqwQ08L0VBAZ8pFTdagfQPoUKPIaw7sUrc2vXR4AcBrdmnRWorohC0uy5Exm0XL70O/DzjzY+in6XPnqpuyl4BdwIzf59ezsUJexzZc0Ki3MRPn+Vz1PqZcfE+BmfisDKfsdegoNkvaAu2uYJdZTOe5p2n1DbKYWAt2ACIG37HGlm87GBiwA45TaZaAXT+9sginpXQ/buxZGpoJgNzCTiYPA+VYY/UYn5cYru3wlb4ixAk7F7/KXwJ2+STYkEE+9roxE4oyaK/OnrGFm8BNmOeq87HlqkfedOofOZEnF3vd0PG10MhDW5ADkwfgG+NJnieDncZXGNcW5LkFG8uNIUMquqVg1xVy95bG2MzX5yFGXIDbF7CW1j2XATQmcENppAN0cwA8lrYffuxz2ufY9A8lnXrGRBGNXdg5+Vf+HNjhL5poa4cyTjgyTU6zEmrrI96qCMgBRRfadgOwpb/ke3UBYvjXj1z4da89YtccMguhMa4BHOzQ7vIawpc236PBruPw7rtT7A+tawvIriibSs4ZtfHSeY7tJTa95Kfi4uMIBCBKXsJDk3xbenTK1hhRiZNX6PPMb8EummAbP3Rv+Sj/uV2jlFf+8a+Qaf8MFFpxgOLcbYqvObBDg2eykkHc8h+tr7/Elc6yz7GNrIzIJrmWhjt3/deUj99odkNglyMnQxuL0sKAKFieTRzadErDR3cU2GlwHUvosgmhcJsANiECPgqwa4mRvroKkXWgTm+1LxWUjzj2J42oYy3P2g900qTQiRtqaDMfHgmO8nMBJo0TPvGqHHzQ/NoDq2YKdOETjXvpabTAzfIxeZ/TQD7UBtcWFkHX3q3N9hLqibclYEfG8B9Ak85SNAfxxfU309CQ/8iXZ/doyTN3CW2wlAf8Gre0N5flZxwQzBtYQysldDRc4zAuCtXUag/tarCTSKbUcRodldts5d6FwTCv8pyOTUclDMBI50oeuc8xEgLA6fzkLy7lEfihCkoTIAJGKUfa2LZoefgEdoBauPxcKcu98KELjY4Czu61R7TNpZ1edMs1PH1qkqHVm5AubSMGf3NgF9k3iTpWQb4NQHYnE766uYY2ueTPJQ/pgJ0yE/6Q5AnPFAljk8aqPtpDOwhTt5zi6Nerq3DTFtKjH2q3pJVmNdilsVvtrS084Skk9GjaMHShTfr46Nr43Cc+fujafHM/lkbaxPVp89z6oR3yW7q6Xw5ca9tKn1khxI7TP6qwNr896PE4B3aRW77VEW3NRbZoKwasgctN8SjeBGxVlWXtFP2lxXUVvPvBmxUThUYfW/FldTU3oclC/dFTmKbqifZosJvKuOL2G/i31LZAIAIdw75lDndp7YCnObDDO20lK5+uInc/0WaWbKJlc2IJMF5iOwE3K6+AWdsO3ncH+rGvT/GfNkcfs8AYPdoCu18KmMYE5JzhATo8ZJly3/ap8GCguJ9qjww8WkbfnCEuRncD02Dn5MfF/maAT5URelqQfABG8plLdwnxeAXU0dws38M/XxszHdFYA4RTfEsTe39rJhtKg7bArsBudoANCc/eYYSTi+E+9lthe5ed/JVlmTS2CRY6Pjem2YlzRARA0eCy9BQubwZ5dl9LOK7Nt38vPptubJhz9P3053zGKxOEdmCSCEB1lWi+XdffoBnjWToT4Zids02HtsCuwG5ycLUCc5/3hDOztp18ZXNzGtaWPCoPSC2xEaKdAjvLVxtkATT0NLxsbvXftR6rh3SW9LSj5DVGe2nheKfZqXMATRjwp+UBraVmiqSTRrtyU/UVX2BXYDcpJFMCtFccwST0NAADO4P6voGO/Yzhe0m5eAaKQGhsCWbZ2e7AGqTC5M8NtWcXcRfnHlg4X7fEpjWU37nD1EE7OQxOQ3WZzDyPtVvav98W0RLzN4xTdZNWWfqTm6MV/8jPHPFURhV3+TbC9G/X0c3udZ778Vv2qbwjxJY6SzWerXmgddEaxl5X6peHb5rd0OH5drCqjx1YS9B2o6KfX57Z+gzSACJwNAlEMwrdQ/K1lQlMe2mLHBmJXA3VRf3ZbNMfaB1z0xZjINnmg147mjynypEm8QV2V64J6mgDjAbibZaAjXD2JWfEhFve8XO4sxWsY++VQXBpR0Djvm1SyucMQDwAO3Xm5uqEBq3lqoE8Rt9ldvczRiOck4/BnCMmzpR6thzjptI/hLiuEnc/U/wicSZP3WnDgC9v0axZ9prA+h8iGSo3bVtgd8Vgp5MJkSWFHUUqv0PThIu2ZbkB7MQBQYexAYK4CMiQ8CwJkx5Y2I0j1EOHxZfks5amY/zuh4YBwJXvAujckjy1EbrQ53lJ2ikadktLVlqJ9r6vdpni6RxxgF/fkE32Pf6ayVB/xM31TfqwwO5KwU4HMxR71zLajGWDQW+QEa5Wy0MP9MSf+n6mvAhgzprl5LzwvZ1yLae8o5lDywE7Gh53jsGdMpVvoC9Z6iXNtfkBJ22R3fGuY3bqm/R5gd0Vgx0Vvz3iAeAMfNpdBlsGEoEAfuJpY7E/JX6pH6FNWcqX1gDf4jI4XPi3RAZsNh7YvpQZTTIAF9+OoUEWwV9anz3o0kZ75P3Q8ryPtkifF9hdMdhZHsQGArwCBENLJwJB8wEOc6/qTA0o+bBBBWS8M+oCsFtctDX2N3YvdsCUM+dbPkbop/ivuMvfcFvbR+n3ArsrBTsCwQhMm+JsPAAEB16HtDY0+QpNtMFjhCq7i3Pgc9/x/bcg1tat6B8uCBbYXTHIGZhZsnVI17zeNHaeC52dMSA09z7n2MBXpk0ANj8n4S/hwovNgAj8GO8V/nDBbK7v0vel2V056BEELmeYcq6pFRDx7F+WhZaHfXteSzt33xV2gT9zfFd8gd1Zd65KAE8XQLhjKcteRmsb2t5Hk3NOdmo5bR+/+uH0fqg2PF8bRo5Ls7tyzU5Hx17HuB8bXn/w+Z5au4SVjv1tCBz7aev5fAO52n6+7QvsrhzkMgh0tIPDgGzIXiceoIkHho51cHzn5Ly7ySW/8ucHV7XRZbVR5Lc0uysHPR09Z6/Lt9myCyuNZW0Z9i9r0BaIHtcfBXZXDnIGBmfZmj88GVqSosmL+vnahIO6dlLz5kUNsuMGWbXbZbRbgd2NgB3AAnZ54Tod3x+IXq9it+PTBJ3RG6Ptp517bl8Pkmee59JtEd9VopbhN22GiBzXMvYGQM+B2tjixgCEQAA4b1EMHToeS7c0XJ7e3HDEZWmaY+gCbhFwZTpKc0xeleYyNLNT+yGyUGB3A2AXAJjTqEJ3qnD108s3/7bV/k9Bn26LZ+/3WoazQ1qK23jZ4isuW/BWeZwHPAvsbgDkLmVwETZaI5sgLXMvvpTjuIy3OGywBOyAXwR+r7Ir3/MA2ZJ2T9+XZlegtxv4tILYoc3dz5yG2aY75j5l2U2m2RXYXS4QHdO/a9MU2BXI7Q5yAZ3WXyuox9Ir02ZLgd1tAx354fil2RXo7QJ6BMymSM7rOdg8pNF1knjizxAgyrLAroCuwK4AbheAC+gAGm9e+Jim7+k53+cjAz7DzbV0dn/Z8nxFec2VNDYkkl/rF9gV0EUeInOl2RXwDYJFBOUY3zETHxRo/zTZhwh8xDOCJ18OGKL1Ktvay3nAsT8IkndpdgV4kTN+gV2B3aZgB2Qc9cjbGJ7z3xbtF1UCouJPdWPL4wK7ArsCuwK4TQEuwBW/BR9AljN2zr5xodvTV06BXYEdGYvMlWZXwLcr+BA0HxiwKzq05Owk8cSfIdCUZYFdgV2BXQHcrgAX8AE47tnqfD6KxpewCCFtz6fTj7kcGvZHyW2ebdkFdgV2kTN+aXYFfLsBHxDyLiytzs7sECjZqXUs5ZjL/9Ha9Q3Axe8KOhy6T1QpO4A4VH7SlH+9wJh+L7ArsPsNWGw18AmZ3VaA8/HHH3cY1M+7Czzxp7UR+qSVF/+BIG1R2YDU11+E2ynu81DP1wt0+pbjF9gV2O02+AmZ91QBDg0vQrcXuMg/HwB49dVXu89a+dqyK8da7oOPvepX+R4HypG7ArsCu03ALva4CBZfWP4gO/F7D1jl0N5SXvhpw/fmofI/DpT2arfIQIFdgd0mYEegnKf74osvHn8PL/9tUZ93v6zBvxeoXGq+BXYFcpuAXCvgzz77bLdk9U4s7crzc889N/vh0DaPui9g3FoGfgN2AspVC5zSAuxzAM4uKRuZZ6BXrlrg3C0AQGsZWxrephqeg8Peic1GACHfeqau/Er7WyMDkcH/A8+Gp69zWkeyAAAAAElFTkSuQmCC)\n"
      ]
    },
    {
      "cell_type": "code",
      "metadata": {
        "colab": {
          "base_uri": "https://localhost:8080/"
        },
        "id": "mnIYM72qxeAu",
        "outputId": "d499d806-3d34-4d4a-dcb1-f7abb47fcaf9"
      },
      "source": [
        "print('MAE:'+str(mean_absolute_error(predictions, y)))"
      ],
      "execution_count": 8,
      "outputs": [
        {
          "output_type": "stream",
          "text": [
            "MAE:3.2313558816689745\n"
          ],
          "name": "stdout"
        }
      ]
    },
    {
      "cell_type": "markdown",
      "metadata": {
        "id": "wjR-bWAtxTxI"
      },
      "source": [
        "**Mean Squared Error (MSE):**  \n",
        "\n",
        "Mean of the squared errors. MSE \"punishes\" larger errors, which tends to be useful in the real world. Note that for later in the course when we go over how machine learning algorithms work that MSE is continuous and differentiable, making it easier to use than MAE for optimization.\n",
        "\n",
        "![image.png](data:image/png;base64,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)"
      ]
    },
    {
      "cell_type": "code",
      "metadata": {
        "colab": {
          "base_uri": "https://localhost:8080/"
        },
        "id": "K6Jf6yaTrr6q",
        "outputId": "42c92b92-caff-439a-9d44-200aaf22e486"
      },
      "source": [
        "print('MSE:' +str(mean_squared_error(predictions, y)))"
      ],
      "execution_count": 9,
      "outputs": [
        {
          "output_type": "stream",
          "text": [
            "MSE:17.915487275260496\n"
          ],
          "name": "stdout"
        }
      ]
    },
    {
      "cell_type": "markdown",
      "metadata": {
        "id": "bHH5it74xB18"
      },
      "source": [
        "**Root Mean Squared Error (RMSE):** \n",
        "\n",
        "Square root of the mean of the squared errors. Similar to MSE, but more popular as it is seen as easier to understand than MSE. \n",
        "\n",
        "![image.png](data:image/png;base64,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)"
      ]
    },
    {
      "cell_type": "code",
      "metadata": {
        "colab": {
          "base_uri": "https://localhost:8080/"
        },
        "id": "RyQN6F1AvhVT",
        "outputId": "ce63e237-a9e5-446a-8738-5f64f31ffbd2"
      },
      "source": [
        "print('RMSE:'+str(np.sqrt(mean_squared_error(predictions, y))))"
      ],
      "execution_count": 10,
      "outputs": [
        {
          "output_type": "stream",
          "text": [
            "RMSE:4.232669048633556\n"
          ],
          "name": "stdout"
        }
      ]
    },
    {
      "cell_type": "markdown",
      "metadata": {
        "id": "xuqhhzjC1HaS"
      },
      "source": [
        "**Citations**\n",
        "\n",
        "https://youtu.be/gofilGC-vMk\n",
        "\n",
        "https://medium.com/human-in-a-machine-world/mae-and-rmse-which-metric-is-better-e60ac3bde13d\n",
        "\n",
        "https://medium.com/machine-learning-for-li/a-walk-through-of-cost-functions-4767dff78f7\n"
      ]
    }
  ]
}